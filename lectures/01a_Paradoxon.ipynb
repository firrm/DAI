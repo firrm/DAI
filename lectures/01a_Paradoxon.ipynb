{
 "cells": [
  {
   "cell_type": "markdown",
   "id": "ebb55f03f484ed61",
   "metadata": {
    "collapsed": false,
    "jupyter": {
     "outputs_hidden": false
    }
   },
   "source": [
    "# Some common pitfalls both logical as well as syntactical\n"
   ]
  },
  {
   "cell_type": "code",
   "execution_count": 3,
   "id": "1d4e51e7c2cc9cd9",
   "metadata": {
    "ExecuteTime": {
     "end_time": "2024-04-05T08:45:14.043737Z",
     "start_time": "2024-04-05T08:45:13.850719Z"
    },
    "collapsed": false,
    "jupyter": {
     "outputs_hidden": false
    }
   },
   "outputs": [],
   "source": [
    "!pip install -r https://raw.githubusercontent.com/firrm/DAI/main/requirements.txt #ensure that the required packages are installed\n",
    "import pandas as pd\n",
    "import plotly.io as pio\n",
    "pio.renderers.default = \"iframe\"\n",
    "from sklearn import datasets\n",
    "from sklearn.model_selection import train_test_split\n",
    "from sklearn.model_selection import cross_val_score\n",
    "from sklearn.base import BaseEstimator\n",
    "import numpy as np\n",
    "import random"
   ]
  },
  {
   "cell_type": "markdown",
   "id": "8f181db890b47b26",
   "metadata": {
    "collapsed": false,
    "jupyter": {
     "outputs_hidden": false
    }
   },
   "source": [
    "# Accuracy vs Precision\n",
    "Accuracy is the number of correct predictions made by the model over all kinds of predictions made. Precision is the number of correct positive predictions made by the model over all kinds of positive predictions made.\n",
    "\n",
    "Suppose you have 10000 emails and 5% are spam, so you expect 500 spam emails. Now you are lazy and just predict all emails are not spam. You have an accuracy of 95% but a precision of 0%."
   ]
  },
  {
   "cell_type": "code",
   "execution_count": 51,
   "id": "16869d57c208e0eb",
   "metadata": {
    "ExecuteTime": {
     "end_time": "2024-04-05T09:20:41.995354Z",
     "start_time": "2024-04-05T09:20:41.968668Z"
    },
    "collapsed": false,
    "jupyter": {
     "outputs_hidden": false
    }
   },
   "outputs": [
    {
     "data": {
      "text/plain": [
       "array([0.9       , 0.89966555, 0.89632107])"
      ]
     },
     "execution_count": 51,
     "metadata": {},
     "output_type": "execute_result"
    }
   ],
   "source": [
    "# Example for digits database with 1 as target\n",
    "digits = datasets.load_digits()\n",
    "data = digits.images.reshape((len(digits.images), -1))\n",
    "x_train, x_test, y_train, y_test = train_test_split(\n",
    "    data, digits.target, test_size=0.5, shuffle=False\n",
    ")\n",
    "y_train_1 = y_train == 1\n",
    "\n",
    "\n",
    "class DumbClassifier(BaseEstimator):\n",
    "    def fit(self, X, y=None):\n",
    "        pass\n",
    "\n",
    "    def predict(self, X):\n",
    "        return np.zeros((len(X), 1), dtype=bool)\n",
    "\n",
    "\n",
    "dumb_clf = DumbClassifier()\n",
    "cross_val_score(dumb_clf, x_train, y_train_1, cv=3, scoring=\"accuracy\")"
   ]
  },
  {
   "cell_type": "markdown",
   "id": "9e2d06bb544aab83",
   "metadata": {
    "collapsed": false,
    "jupyter": {
     "outputs_hidden": false
    }
   },
   "source": [
    "So we have an estimator which never estimate the number 1, but the accuracy is over 90% simply because if for any number presented to you your answer is \"not 1\" you are correct 9/10 digits, so 90% of the time."
   ]
  },
  {
   "cell_type": "markdown",
   "id": "f37c456ecc28c537",
   "metadata": {
    "collapsed": false,
    "jupyter": {
     "outputs_hidden": false
    }
   },
   "source": [
    "## Base rate fallacy\n",
    "Coming back to the email example, you have 10.000 mails and a model with an accuracy of 95%. Good isn't it? \n",
    " \n",
    "Suppose you have - in your real life data - 1 spam email and 9.999 not spam emails. 5% rate of false positives and 0.1% are really spam. So you have 1/10.000 true positives and $9.999 \\times 0.05 = 499.95$ false positives. out of 9.999 not-spam. So the precision is $1/(1+499.95) = 0.2%$.\n",
    "\n",
    "This means that if you flag something as spam, you are right 0.2% of the time.This is due to the low prevalence of fraudulent transactions in the real world and the relatively high false positive rate of the model. This scenario illustrates the false positive paradox, where a model with seemingly good performance (e.g., 95% accuracy) can still produce a large number of false positives when applied to a population with a low prevalence of the target condition (fraudulent transactions, in this case). This can lead to a low precision, meaning that most of the flagged transactions are actually non-fraudulent.\n"
   ]
  },
  {
   "cell_type": "markdown",
   "id": "131f665676ead951",
   "metadata": {
    "collapsed": false,
    "jupyter": {
     "outputs_hidden": false
    }
   },
   "source": [
    "# Gambler's fallacy\n",
    "The gambler's fallacy is the belief that the chances of a random event happening change depending on previous events. For example, if a coin has landed on heads five times in a row, the gambler's fallacy would predict that the coin is more likely to land on tails on the sixth flip. In reality, the chances of the coin landing on heads or tails are always 50/50, regardless of previous outcomes.\n",
    "\n",
    "When you run this code, it will output a series of 100 coin flips along with messages indicating when the gambler expects the opposite outcome based on the previous flip. The Gambler's Fallacy is the belief that if a particular outcome occurs more frequently than normal during a given period, it will occur less frequently in the future, and vice versa. However, in reality, each coin flip is an independent event, and the previous flips do not influence the outcome of the next flip."
   ]
  },
  {
   "cell_type": "code",
   "execution_count": 52,
   "id": "2a6df6baa88791d5",
   "metadata": {
    "ExecuteTime": {
     "end_time": "2024-04-05T09:33:27.998125Z",
     "start_time": "2024-04-05T09:33:27.992136Z"
    },
    "collapsed": false,
    "jupyter": {
     "outputs_hidden": false
    }
   },
   "outputs": [
    {
     "name": "stdout",
     "output_type": "stream",
     "text": [
      "Flip 1: H\n",
      "Flip 2: T\n",
      "Flip 3: T (Gambler expects the opposite outcome next)\n",
      "Flip 4: T (Gambler expects the opposite outcome next)\n",
      "Flip 5: H\n",
      "Flip 6: H (Gambler expects the opposite outcome next)\n",
      "Flip 7: H (Gambler expects the opposite outcome next)\n",
      "Flip 8: H (Gambler expects the opposite outcome next)\n",
      "Flip 9: H (Gambler expects the opposite outcome next)\n",
      "Flip 10: H (Gambler expects the opposite outcome next)\n",
      "Flip 11: T\n",
      "Flip 12: T (Gambler expects the opposite outcome next)\n",
      "Flip 13: H\n",
      "Flip 14: T\n",
      "Flip 15: T (Gambler expects the opposite outcome next)\n",
      "Flip 16: T (Gambler expects the opposite outcome next)\n",
      "Flip 17: H\n",
      "Flip 18: T\n",
      "Flip 19: H\n",
      "Flip 20: H (Gambler expects the opposite outcome next)\n",
      "Flip 21: T\n",
      "Flip 22: T (Gambler expects the opposite outcome next)\n",
      "Flip 23: T (Gambler expects the opposite outcome next)\n",
      "Flip 24: T (Gambler expects the opposite outcome next)\n",
      "Flip 25: H\n",
      "Flip 26: T\n",
      "Flip 27: H\n",
      "Flip 28: H (Gambler expects the opposite outcome next)\n",
      "Flip 29: T\n",
      "Flip 30: T (Gambler expects the opposite outcome next)\n",
      "Flip 31: H\n",
      "Flip 32: T\n",
      "Flip 33: H\n",
      "Flip 34: T\n",
      "Flip 35: H\n",
      "Flip 36: H (Gambler expects the opposite outcome next)\n",
      "Flip 37: T\n",
      "Flip 38: H\n",
      "Flip 39: T\n",
      "Flip 40: T (Gambler expects the opposite outcome next)\n",
      "Flip 41: H\n",
      "Flip 42: H (Gambler expects the opposite outcome next)\n",
      "Flip 43: H (Gambler expects the opposite outcome next)\n",
      "Flip 44: T\n",
      "Flip 45: T (Gambler expects the opposite outcome next)\n",
      "Flip 46: T (Gambler expects the opposite outcome next)\n",
      "Flip 47: T (Gambler expects the opposite outcome next)\n",
      "Flip 48: T (Gambler expects the opposite outcome next)\n",
      "Flip 49: H\n",
      "Flip 50: H (Gambler expects the opposite outcome next)\n",
      "Flip 51: T\n",
      "Flip 52: H\n",
      "Flip 53: T\n",
      "Flip 54: H\n",
      "Flip 55: H (Gambler expects the opposite outcome next)\n",
      "Flip 56: T\n",
      "Flip 57: H\n",
      "Flip 58: T\n",
      "Flip 59: T (Gambler expects the opposite outcome next)\n",
      "Flip 60: T (Gambler expects the opposite outcome next)\n",
      "Flip 61: H\n",
      "Flip 62: H (Gambler expects the opposite outcome next)\n",
      "Flip 63: H (Gambler expects the opposite outcome next)\n",
      "Flip 64: T\n",
      "Flip 65: H\n",
      "Flip 66: H (Gambler expects the opposite outcome next)\n",
      "Flip 67: H (Gambler expects the opposite outcome next)\n",
      "Flip 68: H (Gambler expects the opposite outcome next)\n",
      "Flip 69: H (Gambler expects the opposite outcome next)\n",
      "Flip 70: T\n",
      "Flip 71: H\n",
      "Flip 72: T\n",
      "Flip 73: T (Gambler expects the opposite outcome next)\n",
      "Flip 74: H\n",
      "Flip 75: T\n",
      "Flip 76: T (Gambler expects the opposite outcome next)\n",
      "Flip 77: T (Gambler expects the opposite outcome next)\n",
      "Flip 78: T (Gambler expects the opposite outcome next)\n",
      "Flip 79: T (Gambler expects the opposite outcome next)\n",
      "Flip 80: H\n",
      "Flip 81: T\n",
      "Flip 82: T (Gambler expects the opposite outcome next)\n",
      "Flip 83: T (Gambler expects the opposite outcome next)\n",
      "Flip 84: H\n",
      "Flip 85: H (Gambler expects the opposite outcome next)\n",
      "Flip 86: H (Gambler expects the opposite outcome next)\n",
      "Flip 87: H (Gambler expects the opposite outcome next)\n",
      "Flip 88: H (Gambler expects the opposite outcome next)\n",
      "Flip 89: H (Gambler expects the opposite outcome next)\n",
      "Flip 90: H (Gambler expects the opposite outcome next)\n",
      "Flip 91: T\n",
      "Flip 92: H\n",
      "Flip 93: T\n",
      "Flip 94: H\n",
      "Flip 95: T\n",
      "Flip 96: T (Gambler expects the opposite outcome next)\n",
      "Flip 97: H\n",
      "Flip 98: H (Gambler expects the opposite outcome next)\n",
      "Flip 99: T\n",
      "Flip 100: T (Gambler expects the opposite outcome next)\n",
      "\n",
      "Total Heads: 50\n",
      "Total Tails: 50\n"
     ]
    }
   ],
   "source": [
    "def coin_flip():\n",
    "    return random.choice(['H', 'T'])\n",
    "\n",
    "def gambler_fallacy():\n",
    "    flips = []\n",
    "    heads_count = 0\n",
    "    tails_count = 0\n",
    "\n",
    "    for i in range(100):\n",
    "        flip = coin_flip()\n",
    "        flips.append(flip)\n",
    "\n",
    "        if flip == 'H':\n",
    "            heads_count += 1\n",
    "        else:\n",
    "            tails_count += 1\n",
    "\n",
    "        if i > 0 and flips[i] == flips[i-1]:\n",
    "            print(f\"Flip {i+1}: {flip} (Gambler expects the opposite outcome next)\")\n",
    "        else:\n",
    "            print(f\"Flip {i+1}: {flip}\")\n",
    "\n",
    "    print(f\"\\nTotal Heads: {heads_count}\")\n",
    "    print(f\"Total Tails: {tails_count}\")\n",
    "\n",
    "gambler_fallacy()"
   ]
  },
  {
   "cell_type": "markdown",
   "id": "1da65a17b59f76ee",
   "metadata": {
    "collapsed": false,
    "jupyter": {
     "outputs_hidden": false
    }
   },
   "source": [
    "# Berkson's Paradox\n",
    "Berkson's paradox is a result in probability and statistics which is counterintuitive. It is a complicating factor arising in statistical tests of proportions. The paradox is that an association between two events that each have a low probability of occurring can arise when the events are negatively correlated. This is a result of conditioning on a common effect of two causes. [Wikipedia](https://en.wikipedia.org/wiki/Berkson%27s_paradox)\n",
    "\n",
    "Lets look at flowers <img src=\"https://upload.wikimedia.org/wikipedia/commons/a/a7/Irissetosa1.jpg\">\n"
   ]
  },
  {
   "cell_type": "code",
   "execution_count": 59,
   "id": "abaa31956b895f4e",
   "metadata": {
    "ExecuteTime": {
     "end_time": "2024-04-05T09:41:20.621261Z",
     "start_time": "2024-04-05T09:41:20.362606Z"
    },
    "collapsed": false,
    "jupyter": {
     "outputs_hidden": false
    }
   },
   "outputs": [
    {
     "data": {
      "image/png": "[encoded data removed]",
      "text/plain": [
       "<Figure size 1000x500 with 2 Axes>"
      ]
     },
     "metadata": {},
     "output_type": "display_data"
    }
   ],
   "source": [
    "#https://pub.towardsai.net/5-paradoxes-in-statistics-every-data-scientist-should-be-familiar-with-478b74310099\n",
    "import seaborn as sns\n",
    "import matplotlib.pyplot as plt\n",
    "from scipy.stats import linregress\n",
    "\n",
    "# Load the iris data set\n",
    "df = sns.load_dataset(\"iris\")\n",
    "\n",
    "# Subset the data to only include setosa species\n",
    "df_s = df[df[\"species\"] == \"setosa\"]\n",
    "\n",
    "# Create a figure with two subplots\n",
    "fig, (ax1, ax2) = plt.subplots(1, 2, figsize=(10, 5))\n",
    "\n",
    "# Plot the relationship between sepal length and width.\n",
    "slope, intercept, r_value, p_value, std_err = linregress(\n",
    "    df[\"sepal_length\"], df[\"sepal_width\"]\n",
    ")\n",
    "ax1.scatter(df[\"sepal_length\"], df[\"sepal_width\"])\n",
    "ax1.plot(\n",
    "    df[\"sepal_length\"],\n",
    "    intercept + slope * df[\"sepal_length\"],\n",
    "    \"r\",\n",
    "    label=\"fitted line\",\n",
    ")\n",
    "ax1.set_xlabel(\"Sepal Length\")\n",
    "ax1.set_ylabel(\"Sepal Width\")\n",
    "ax1.set_title(\"Sepal Length and Width\")\n",
    "ax1.legend([f\"R² = {r_value:.3f}\"])\n",
    "\n",
    "# Plot the relationship between setosa sepal length and width for setosa.\n",
    "slope, intercept, r_value, p_value, std_err = linregress(\n",
    "    df_s[\"sepal_length\"], df_s[\"sepal_width\"]\n",
    ")\n",
    "ax2.scatter(df_s[\"sepal_length\"], df_s[\"sepal_width\"])\n",
    "ax2.plot(\n",
    "    df_s[\"sepal_length\"],\n",
    "    intercept + slope * df_s[\"sepal_length\"],\n",
    "    \"r\",\n",
    "    label=\"fitted line\",\n",
    ")\n",
    "ax2.set_xlabel(\"Setosa Sepal Length\")\n",
    "ax2.set_ylabel(\"Setosa Sepal Width\")\n",
    "ax2.set_title(\"Setosa Sepal Length and Width \")\n",
    "ax2.legend([f\"R² = {r_value:.3f}\"])\n",
    "\n",
    "# Show the plot\n",
    "plt.show()"
   ]
  },
  {
   "cell_type": "markdown",
   "id": "ab3ba254c1099e17",
   "metadata": {
    "collapsed": false,
    "jupyter": {
     "outputs_hidden": false
    }
   },
   "source": [
    "# Overton Paradox\n",
    "> If You Are Not a Liberal When You Are Young, You Have No Heart, and If You Are Not a Conservative When Old, You Have No Brain\n",
    "\n",
    "Often attributed to W. Churchill but rather going back to Anselme Polycarpe Batbie: “Celui qui n'est pas républicain à vingt ans fait douter de la générosité de son âme; mais celui qui, après trente ans, persévère, fait douter de la rectitude de son esprit.” (#nerdyknowledge that takes brain capacity)\n",
    "\n",
    "<img src=\"https://raw.githubusercontent.com/firrm/DAI/main/assets/overton.png\">\n",
    "\n",
    "Using data from the [General Social Survey](https://gss.norc.org/Get-The-Data) age correlates with political views.\n",
    "\n",
    "[Here](https://brilliant.org/lesson/the-overton-paradox/) is a very nice interactive visualization of the phenomenon.\n"
   ]
  },
  {
   "cell_type": "markdown",
   "id": "1600e836e9b7c6db",
   "metadata": {
    "collapsed": false,
    "jupyter": {
     "outputs_hidden": false
    }
   },
   "source": [
    "# Simpson's Paradox\n",
    "Simpson's paradox is a phenomenon in probability and statistics, in which a trend appears in several different groups of data but disappears or reverses when these groups are combined. It is sometimes given the descriptive title reversal paradox or amalgamation paradox. This result is often encountered in social-science and medical-science statistics and is particularly confounding when frequency data are unduly given causal interpretations. The paradox can be resolved when causal relations are appropriately addressed in the statistical modeling. \n",
    "[Wikipedia](https://en.wikipedia.org/wiki/Simpson%27s_paradox)\n",
    "\n",
    "\n"
   ]
  },
  {
   "cell_type": "markdown",
   "id": "813e5ec6067291ce",
   "metadata": {
    "collapsed": false,
    "jupyter": {
     "outputs_hidden": false
    }
   },
   "source": [
    "Lets look at an example: 1986 St Paul's Hospital in London. \n",
    "\n",
    "You observe the following data for treatment of kidney stones for 350 patients in each treatment group\n",
    "- A open surgery. \n",
    "- B percutaneous nephrolithotomy (PCNL).  \n",
    "(if you need to know what this is exactly NSFW [A](https://www.researchgate.net/publication/351620514/figure/fig2/AS:1024317362040843@1621227698860/Operative-steps-of-pyelolithotomy-the-renal-pelvis-is-opened-and-the-stone-is-extracted.jpg) and [B](https://brisbaneurologyclinic.com.au/wp-content/uploads/2019/06/PCNL.jpg))"
   ]
  },
  {
   "cell_type": "markdown",
   "id": "58377edc09a1ce86",
   "metadata": {
    "collapsed": false,
    "jupyter": {
     "outputs_hidden": false
    }
   },
   "source": [
    "However not every kidney stone is equal. There are two types of kidney stones: Small and Large. The data is as follows:"
   ]
  },
  {
   "cell_type": "code",
   "execution_count": 33,
   "id": "545c2caa71267849",
   "metadata": {
    "ExecuteTime": {
     "end_time": "2024-04-05T08:54:31.540681Z",
     "start_time": "2024-04-05T08:54:31.532728Z"
    },
    "collapsed": false,
    "jupyter": {
     "outputs_hidden": false
    }
   },
   "outputs": [
    {
     "data": {
      "text/html": [
       "<div>\n",
       "<style scoped>\n",
       "    .dataframe tbody tr th:only-of-type {\n",
       "        vertical-align: middle;\n",
       "    }\n",
       "\n",
       "    .dataframe tbody tr th {\n",
       "        vertical-align: top;\n",
       "    }\n",
       "\n",
       "    .dataframe thead th {\n",
       "        text-align: right;\n",
       "    }\n",
       "</style>\n",
       "<table border=\"1\" class=\"dataframe\">\n",
       "  <thead>\n",
       "    <tr style=\"text-align: right;\">\n",
       "      <th></th>\n",
       "      <th>Small</th>\n",
       "      <th>Large</th>\n",
       "      <th>total</th>\n",
       "    </tr>\n",
       "  </thead>\n",
       "  <tbody>\n",
       "    <tr>\n",
       "      <th>A open surgery</th>\n",
       "      <td>87</td>\n",
       "      <td>263</td>\n",
       "      <td>350</td>\n",
       "    </tr>\n",
       "    <tr>\n",
       "      <th>B PNCL</th>\n",
       "      <td>270</td>\n",
       "      <td>80</td>\n",
       "      <td>350</td>\n",
       "    </tr>\n",
       "  </tbody>\n",
       "</table>\n",
       "</div>"
      ],
      "text/plain": [
       "                Small  Large  total\n",
       "A open surgery     87    263    350\n",
       "B PNCL            270     80    350"
      ]
     },
     "execution_count": 33,
     "metadata": {},
     "output_type": "execute_result"
    }
   ],
   "source": [
    "procedures = pd.DataFrame( [[87,263],[270,80]], index= index, columns = [\"Small\",\"Large\"])\n",
    "procedures[\"total\"] = procedures.sum(axis=1)\n",
    "procedures\n"
   ]
  },
  {
   "cell_type": "code",
   "execution_count": 49,
   "id": "2fe16d40980288e3",
   "metadata": {
    "ExecuteTime": {
     "end_time": "2024-04-05T09:04:22.746294Z",
     "start_time": "2024-04-05T09:04:22.739335Z"
    },
    "collapsed": false,
    "jupyter": {
     "outputs_hidden": false
    }
   },
   "outputs": [
    {
     "data": {
      "text/html": [
       "<div>\n",
       "<style scoped>\n",
       "    .dataframe tbody tr th:only-of-type {\n",
       "        vertical-align: middle;\n",
       "    }\n",
       "\n",
       "    .dataframe tbody tr th {\n",
       "        vertical-align: top;\n",
       "    }\n",
       "\n",
       "    .dataframe thead th {\n",
       "        text-align: right;\n",
       "    }\n",
       "</style>\n",
       "<table border=\"1\" class=\"dataframe\">\n",
       "  <thead>\n",
       "    <tr style=\"text-align: right;\">\n",
       "      <th></th>\n",
       "      <th>Small</th>\n",
       "      <th>Large</th>\n",
       "      <th>total</th>\n",
       "    </tr>\n",
       "  </thead>\n",
       "  <tbody>\n",
       "    <tr>\n",
       "      <th>A open surgery</th>\n",
       "      <td>81</td>\n",
       "      <td>192</td>\n",
       "      <td>273</td>\n",
       "    </tr>\n",
       "    <tr>\n",
       "      <th>B PNCL</th>\n",
       "      <td>234</td>\n",
       "      <td>55</td>\n",
       "      <td>289</td>\n",
       "    </tr>\n",
       "  </tbody>\n",
       "</table>\n",
       "</div>"
      ],
      "text/plain": [
       "                Small  Large  total\n",
       "A open surgery     81    192    273\n",
       "B PNCL            234     55    289"
      ]
     },
     "execution_count": 49,
     "metadata": {},
     "output_type": "execute_result"
    }
   ],
   "source": [
    "success = pd.DataFrame( [[81,192],[234,55]], index= index, columns = [\"Small\",\"Large\"])\n",
    "success[\"total\"] = success.sum(axis=1)\n",
    "success\n"
   ]
  },
  {
   "cell_type": "markdown",
   "id": "37eb4f44b7c47251",
   "metadata": {
    "collapsed": false,
    "jupyter": {
     "outputs_hidden": false
    }
   },
   "source": [
    "So our success rate is:"
   ]
  },
  {
   "cell_type": "code",
   "execution_count": 48,
   "id": "7ae79e1aa482849b",
   "metadata": {
    "ExecuteTime": {
     "end_time": "2024-04-05T09:04:06.650280Z",
     "start_time": "2024-04-05T09:04:06.645915Z"
    },
    "collapsed": false,
    "jupyter": {
     "outputs_hidden": false
    }
   },
   "outputs": [
    {
     "data": {
      "text/plain": [
       "A open surgery    0.78\n",
       "B PNCL            0.83\n",
       "Name: total, dtype: float64"
      ]
     },
     "execution_count": 48,
     "metadata": {},
     "output_type": "execute_result"
    }
   ],
   "source": [
    "round(success[\"total\"]/procedures[\"total\"],2)"
   ]
  },
  {
   "cell_type": "markdown",
   "id": "fb6b765da949746d",
   "metadata": {
    "collapsed": false,
    "jupyter": {
     "outputs_hidden": false
    }
   },
   "source": [
    "So PNCL is better than open surgery. That at least was the conclusion. \n",
    "But if we look at the success rate for small and large stones we see a different picture:"
   ]
  },
  {
   "cell_type": "code",
   "execution_count": 47,
   "id": "4b918ca456c79657",
   "metadata": {
    "ExecuteTime": {
     "end_time": "2024-04-05T09:03:46.633744Z",
     "start_time": "2024-04-05T09:03:46.629123Z"
    },
    "collapsed": false,
    "jupyter": {
     "outputs_hidden": false
    }
   },
   "outputs": [
    {
     "data": {
      "text/html": [
       "<div>\n",
       "<style scoped>\n",
       "    .dataframe tbody tr th:only-of-type {\n",
       "        vertical-align: middle;\n",
       "    }\n",
       "\n",
       "    .dataframe tbody tr th {\n",
       "        vertical-align: top;\n",
       "    }\n",
       "\n",
       "    .dataframe thead th {\n",
       "        text-align: right;\n",
       "    }\n",
       "</style>\n",
       "<table border=\"1\" class=\"dataframe\">\n",
       "  <thead>\n",
       "    <tr style=\"text-align: right;\">\n",
       "      <th></th>\n",
       "      <th>Small</th>\n",
       "      <th>Large</th>\n",
       "      <th>total</th>\n",
       "    </tr>\n",
       "  </thead>\n",
       "  <tbody>\n",
       "    <tr>\n",
       "      <th>A open surgery</th>\n",
       "      <td>0.93</td>\n",
       "      <td>0.73</td>\n",
       "      <td>0.78</td>\n",
       "    </tr>\n",
       "    <tr>\n",
       "      <th>B PNCL</th>\n",
       "      <td>0.87</td>\n",
       "      <td>0.69</td>\n",
       "      <td>0.83</td>\n",
       "    </tr>\n",
       "  </tbody>\n",
       "</table>\n",
       "</div>"
      ],
      "text/plain": [
       "                Small  Large  total\n",
       "A open surgery   0.93   0.73   0.78\n",
       "B PNCL           0.87   0.69   0.83"
      ]
     },
     "execution_count": 47,
     "metadata": {},
     "output_type": "execute_result"
    }
   ],
   "source": [
    "round(success/procedures,2)"
   ]
  },
  {
   "cell_type": "markdown",
   "id": "6b5b4a05a35daeaa",
   "metadata": {
    "collapsed": false,
    "jupyter": {
     "outputs_hidden": false
    }
   },
   "source": [
    "Now A is better for for both small and large stones."
   ]
  },
  {
   "cell_type": "code",
   "execution_count": 43,
   "id": "d024770753f98cca",
   "metadata": {
    "ExecuteTime": {
     "end_time": "2024-04-05T09:01:08.167237Z",
     "start_time": "2024-04-05T09:01:07.784555Z"
    },
    "collapsed": false,
    "jupyter": {
     "outputs_hidden": false
    }
   },
   "outputs": [
    {
     "data": {
      "text/plain": [
       "<Axes: >"
      ]
     },
     "execution_count": 43,
     "metadata": {},
     "output_type": "execute_result"
    },
    {
     "data": {
      "image/png": "[encoded data removed]",
      "text/plain": [
       "<Figure size 640x480 with 1 Axes>"
      ]
     },
     "metadata": {},
     "output_type": "display_data"
    }
   ],
   "source": [
    "grouped_success_rate.plot()"
   ]
  },
  {
   "cell_type": "markdown",
   "id": "d6b2baebec378bff",
   "metadata": {
    "collapsed": false,
    "jupyter": {
     "outputs_hidden": false
    }
   },
   "source": [
    "So we see a reversal of the trend when we look at the data in more detail. Why? Because the distribution of small and large stones is different in the two groups."
   ]
  },
  {
   "cell_type": "code",
   "execution_count": 46,
   "id": "8c4f0d07046297ac",
   "metadata": {
    "ExecuteTime": {
     "end_time": "2024-04-05T09:03:34.250925Z",
     "start_time": "2024-04-05T09:03:34.243650Z"
    },
    "collapsed": false,
    "jupyter": {
     "outputs_hidden": false
    }
   },
   "outputs": [
    {
     "data": {
      "text/html": [
       "<div>\n",
       "<style scoped>\n",
       "    .dataframe tbody tr th:only-of-type {\n",
       "        vertical-align: middle;\n",
       "    }\n",
       "\n",
       "    .dataframe tbody tr th {\n",
       "        vertical-align: top;\n",
       "    }\n",
       "\n",
       "    .dataframe thead th {\n",
       "        text-align: right;\n",
       "    }\n",
       "</style>\n",
       "<table border=\"1\" class=\"dataframe\">\n",
       "  <thead>\n",
       "    <tr style=\"text-align: right;\">\n",
       "      <th></th>\n",
       "      <th>A open surgery</th>\n",
       "      <th>B PNCL</th>\n",
       "    </tr>\n",
       "  </thead>\n",
       "  <tbody>\n",
       "    <tr>\n",
       "      <th>Small</th>\n",
       "      <td>0.25</td>\n",
       "      <td>0.77</td>\n",
       "    </tr>\n",
       "    <tr>\n",
       "      <th>Large</th>\n",
       "      <td>0.75</td>\n",
       "      <td>0.23</td>\n",
       "    </tr>\n",
       "    <tr>\n",
       "      <th>total</th>\n",
       "      <td>1.00</td>\n",
       "      <td>1.00</td>\n",
       "    </tr>\n",
       "  </tbody>\n",
       "</table>\n",
       "</div>"
      ],
      "text/plain": [
       "       A open surgery  B PNCL\n",
       "Small            0.25    0.77\n",
       "Large            0.75    0.23\n",
       "total            1.00    1.00"
      ]
     },
     "execution_count": 46,
     "metadata": {},
     "output_type": "execute_result"
    }
   ],
   "source": [
    "round(procedures.T/procedures[\"total\"],2)"
   ]
  },
  {
   "cell_type": "markdown",
   "id": "2282e47ed6f37b09",
   "metadata": {
    "collapsed": false,
    "jupyter": {
     "outputs_hidden": false
    }
   },
   "source": [
    "So 75% of the people with large kidney stones received open surgery while 77% of all with small kidney stones received PCNL. Makes sense. \n",
    "But suppose I told you the following:\n",
    "\n",
    "- If you have a kidney stone, B is better for you.\n",
    "- If you have a small kidney stone, A is better for you.\n",
    "- If you have a large kidney stone, A is better for you.\n",
    "\n",
    "What should you do? Well choose A since the success rate in each group is higher.\n",
    "## What is the causality behind it?\n",
    "Smaller stones are more likely to get removed by PCNL. Smaller stones are more likely to succeed, so B looks good since the cases are easier. \n",
    "A is used for hard(er) cases and so the success rate is lower."
   ]
  }
 ],
 "metadata": {
  "kernelspec": {
   "display_name": "Python 3 (ipykernel)",
   "language": "python",
   "name": "python3"
  },
  "language_info": {
   "codemirror_mode": {
    "name": "ipython",
    "version": 3
   },
   "file_extension": ".py",
   "mimetype": "text/x-python",
   "name": "python",
   "nbconvert_exporter": "python",
   "pygments_lexer": "ipython3",
   "version": "3.13.2"
  }
 },
 "nbformat": 4,
 "nbformat_minor": 5
}
