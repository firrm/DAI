{
 "cells": [
  {
   "cell_type": "markdown",
   "metadata": {},
   "source": [
    "<img style=\"float: right; width: 150px;\" src=\"firrm.jpg\">\n",
    "\n",
    "## <span style=\"color:#4375c7\">Quantitative Finance</span>\n",
    "***\n",
    "*Course materials are for educational purposes only. Nothing contained herein should be considered investment advice or an opinion regarding the suitability of any security. For more information about this course, please contact us.*\n",
    "***\n",
    "\n",
    "## Introduction to the Scientific Toolbox of Python: NumPy"
   ]
  },
  {
   "cell_type": "markdown",
   "metadata": {},
   "source": [
    "**NumPy** (NumericalPython) is the fundamental package for scientific computing with Python. Since element-wise computation using lists does not work (or is very tedious and highly inefficient), NumPy provides a more elegant solution. Its alternative to a Python list is called a NumPy array. Unlike Python lists, calculations can now be performed over entire arrays and are **element-wise**. It has a powerful n-dimensional array object called `ndarray` and several routines to manipulate it. It also has other derived objects such as masked arrays and matrices, which we will examine in more detail below. More information about the library can be found in the **[NumPy documentation](https://www.numpy.org/doc/)**.\n",
    "\n",
    "Note that NumPy is used by other libraries like SciPy, matplotlib, Scikit-lean (a machine learning tool) and Pandas to store multi-dimensional data.\n",
    "\n",
    "### Session contents:\n",
    "1. **[Ndarrays, Indexing and Slicing](#ndarrays)**\n",
    "2. **[Ndarrays Properties](#properties)**\n",
    "3. **[NumPy Constants](#constants)** \n",
    "4. **[More on the Creation of Arrays and Matrices](#arrays)** \n",
    "5. **[Statistical Functions](#stats)** \n",
    "***"
   ]
  },
  {
   "cell_type": "markdown",
   "metadata": {},
   "source": [
    "## 1. Ndarrays, Indexing and Slicing  <a name=\"ndarrays\"></a> \n",
    "\n",
    "Let's import the NumPy library and create a simple one-dimensional ndarray."
   ]
  },
  {
   "cell_type": "code",
   "execution_count": 2,
   "metadata": {},
   "outputs": [
    {
     "name": "stdout",
     "output_type": "stream",
     "text": [
      "[ 50 100  80]\n",
      "<class 'numpy.ndarray'>\n"
     ]
    }
   ],
   "source": [
    "!pip install -r https://raw.githubusercontent.com/firrm/DAI/main/requirements.txt #ensure that the required packages are installed\n",
    "# Import the library\n",
    "\n",
    "import numpy as np\n",
    "\n",
    "# Creating a simple one-dimensional array for returns\n",
    "# we define the elements of the array to be 16 bit integers\n",
    "fcf = np.array([50, 100, 80], np.int16) \n",
    "print(fcf)\n",
    "print(type(fcf))\n"
   ]
  },
  {
   "cell_type": "markdown",
   "metadata": {},
   "source": [
    "Before we dive deeper into ndarrays, let us emphasize the differences between Python lists and NumPy arrays.\n",
    "Note that NumPy arrays can only contain one data type!"
   ]
  },
  {
   "cell_type": "code",
   "execution_count": 4,
   "metadata": {},
   "outputs": [
    {
     "data": {
      "text/plain": [
       "[0.05, 0.1, -0.08, 0.05, 0.1, -0.08]"
      ]
     },
     "execution_count": 4,
     "metadata": {},
     "output_type": "execute_result"
    }
   ],
   "source": [
    "python_list = [0.05, 0.1, -0.08]\n",
    "\n",
    "# Summing up\n",
    "python_list + python_list"
   ]
  },
  {
   "cell_type": "code",
   "execution_count": 6,
   "metadata": {},
   "outputs": [
    {
     "data": {
      "text/plain": [
       "array([100, 200, 160], dtype=int16)"
      ]
     },
     "execution_count": 6,
     "metadata": {},
     "output_type": "execute_result"
    }
   ],
   "source": [
    "# Performing the same summation using the NumPy array created above\n",
    "fcf + fcf"
   ]
  },
  {
   "cell_type": "markdown",
   "metadata": {},
   "source": [
    "As we can see, the summation of Python lists simply adds the two lists together. In contrast, using NumPy arrays, we can **compute the sum of the elements element-wise**."
   ]
  },
  {
   "cell_type": "markdown",
   "metadata": {},
   "source": [
    "Extending the example to a **2-dimensional array**:"
   ]
  },
  {
   "cell_type": "code",
   "execution_count": 7,
   "metadata": {},
   "outputs": [
    {
     "name": "stdout",
     "output_type": "stream",
     "text": [
      "[[ 50 100  80]\n",
      " [ 30  45  20]]\n"
     ]
    }
   ],
   "source": [
    "# Creating a 2-dimensional array\n",
    "fcf = np.array([[50, 100, 80], [30, 45, 20]], np.int16)\n",
    "print(fcf)"
   ]
  },
  {
   "cell_type": "markdown",
   "metadata": {},
   "source": [
    "This method of creating arrays can be extended to n dimensions.\n",
    "\n",
    "Now, let us print the first element of the first row, the second element of the first row, and the third element of the second row:"
   ]
  },
  {
   "cell_type": "code",
   "execution_count": 8,
   "metadata": {},
   "outputs": [
    {
     "name": "stdout",
     "output_type": "stream",
     "text": [
      "50\n",
      "100\n",
      "20\n"
     ]
    }
   ],
   "source": [
    "print(fcf[0, 0]); print(fcf[0, 1]); print(fcf[1, 2])"
   ]
  },
  {
   "cell_type": "markdown",
   "metadata": {},
   "source": [
    "We have learned the basics of ndarrays and indexing. Now we come to **slicing** this data structure. Imagine slicing a piece of paper (2-dimensional structure): you can either slice it horizontally or vertically around 2 axes. That's what we want to do in our example above."
   ]
  },
  {
   "cell_type": "code",
   "execution_count": 9,
   "metadata": {},
   "outputs": [
    {
     "name": "stdout",
     "output_type": "stream",
     "text": [
      "[50 30]\n",
      "[30 45 20]\n"
     ]
    }
   ],
   "source": [
    "# Slicing the first column of fcf\n",
    "print(fcf[:, 0])\n",
    "\n",
    "# Slicing the second row of fcf\n",
    "print(fcf[1, :])"
   ]
  },
  {
   "cell_type": "markdown",
   "metadata": {},
   "source": [
    "Now, we move to the **3-dimensional array**:"
   ]
  },
  {
   "cell_type": "code",
   "execution_count": 10,
   "metadata": {},
   "outputs": [
    {
     "name": "stdout",
     "output_type": "stream",
     "text": [
      "[[[ 50 100  80]\n",
      "  [ 30  45  20]]\n",
      "\n",
      " [[ 10  30  20]\n",
      "  [ 15  25  35]]]\n"
     ]
    }
   ],
   "source": [
    "# Creating a 3-dimensional array\n",
    "fcf = np.array([[[50, 100, 80], [30, 45, 20]], \n",
    "                [[10, 30, 20], [15, 25, 35]]], np.int16)\n",
    "print(fcf)"
   ]
  },
  {
   "cell_type": "code",
   "execution_count": 11,
   "metadata": {},
   "outputs": [
    {
     "name": "stdout",
     "output_type": "stream",
     "text": [
      "80\n",
      "25\n",
      "[[100  45]\n",
      " [ 30  25]]\n",
      "[20 35]\n"
     ]
    }
   ],
   "source": [
    "# Printing the third column of the first row of the first 2-dimensional array\n",
    "print(fcf[0, 0, 2]) # The syntax is: x[array, row, column]\n",
    "\n",
    "# Printing the second column of the second row of the second 2-dimensional array\n",
    "print(fcf[1, 1, 1])\n",
    "\n",
    "# Slicing 3-dimensional arrays:\n",
    "# Slicing the second column for all rows of each 2-dimensional array\n",
    "print(fcf[:, :, 1])\n",
    "\n",
    "# Slicing the third column and second row of each 2-dimensional array\n",
    "print(fcf[:, 1, 2])"
   ]
  },
  {
   "cell_type": "markdown",
   "metadata": {},
   "source": [
    "Where is the confirmation of the fact, that this is actually a 3-dimensional array?"
   ]
  },
  {
   "cell_type": "markdown",
   "metadata": {},
   "source": [
    "## 2. Ndarrays Properties  <a name=\"properties\"></a> "
   ]
  },
  {
   "cell_type": "markdown",
   "metadata": {},
   "source": [
    "To confirm the question of dimensionality, let us once again look at the following example. "
   ]
  },
  {
   "cell_type": "code",
   "execution_count": 12,
   "metadata": {},
   "outputs": [
    {
     "name": "stdout",
     "output_type": "stream",
     "text": [
      "[[[ 50 100  80]\n",
      "  [ 30  45  20]]\n",
      "\n",
      " [[ 10  30  20]\n",
      "  [ 15  25  35]]]\n"
     ]
    }
   ],
   "source": [
    "# Creating a 3-dimensional array \n",
    "fcf = np.array([[[50, 100, 80], [30, 45, 20]], \n",
    "                [[10, 30, 20], [15, 25, 35]]], np.int16)\n",
    "print(fcf)"
   ]
  },
  {
   "cell_type": "markdown",
   "metadata": {},
   "source": [
    "The confirmation of dimensionality comes from the fact that we can check the properties of this array. All multidimensional arrays will have the following properties:"
   ]
  },
  {
   "cell_type": "code",
   "execution_count": 10,
   "metadata": {},
   "outputs": [
    {
     "name": "stdout",
     "output_type": "stream",
     "text": [
      "(2, 2, 3)\n",
      "3\n",
      "int16\n",
      "12\n",
      "24\n",
      "[[[ 50  10]\n",
      "  [ 30  15]]\n",
      "\n",
      " [[100  30]\n",
      "  [ 45  25]]\n",
      "\n",
      " [[ 80  20]\n",
      "  [ 20  35]]]\n"
     ]
    }
   ],
   "source": [
    "# Checking for the shape of the array\n",
    "print(fcf.shape) # shape gives us more information about what the data structure looks like\n",
    "\n",
    "# Checking for the number of dimensions of the array\n",
    "print(fcf.ndim)\n",
    "\n",
    "# Checking for the data type of all the individual elements\n",
    "print(fcf.dtype)\n",
    "\n",
    "# Checking for the size (number of elements in the array)\n",
    "print(fcf.size)\n",
    "\n",
    "# Calculate the size in terms of bytes\n",
    "print(fcf.nbytes)\n",
    "\n",
    "# Transpose a given multidimensional matrix\n",
    "print(fcf.T)\n"
   ]
  },
  {
   "cell_type": "markdown",
   "metadata": {},
   "source": [
    "## 3. Ndarrays Constants  <a name=\"constants\"></a> "
   ]
  },
  {
   "cell_type": "markdown",
   "metadata": {},
   "source": [
    "In this section, we will take a brief look at important constants included in the NumPy library."
   ]
  },
  {
   "cell_type": "code",
   "execution_count": 11,
   "metadata": {},
   "outputs": [
    {
     "name": "stdout",
     "output_type": "stream",
     "text": [
      "inf\n",
      "nan\n",
      "-inf\n",
      "-0.0\n",
      "0.0\n",
      "3.141592653589793\n"
     ]
    }
   ],
   "source": [
    "print(np.inf) # inf: infinity\n",
    "print(np.NAN) # NAN: not a number\n",
    "print(np.NINF) # NINF: negative infinity\n",
    "print(np.NZERO) # NZERO: negative zero\n",
    "print(np.PZERO) # PZERO: positive zero\n",
    "\n",
    "print(np.pi) # constant pi"
   ]
  },
  {
   "cell_type": "markdown",
   "metadata": {},
   "source": [
    "## 4. More on the Creation of Arrays and Matrices  <a name=\"arrays\"></a> "
   ]
  },
  {
   "cell_type": "markdown",
   "metadata": {},
   "source": [
    "We already know how to create simple arrays. For econometric calculations, we however often need the identity matrix. We can do this by using the `eye` command."
   ]
  },
  {
   "cell_type": "code",
   "execution_count": 17,
   "metadata": {},
   "outputs": [
    {
     "name": "stdout",
     "output_type": "stream",
     "text": [
      "[[3.45126646e-31 6.90253292e-31 1.72563323e-31]\n",
      " [6.90253292e-31 1.50130091e-30 4.65920972e-31]\n",
      " [1.72563323e-31 4.65920972e-31 2.67473151e-31]]\n"
     ]
    }
   ],
   "source": [
    "# Let's start by creating an empty array filled with random values\n",
    "r_matrix = np.empty([3, 3]) # only allow integer values up to 256\n",
    "print(r_matrix)"
   ]
  },
  {
   "cell_type": "code",
   "execution_count": 19,
   "metadata": {},
   "outputs": [
    {
     "name": "stdout",
     "output_type": "stream",
     "text": [
      "[[1 0 0]\n",
      " [0 1 0]\n",
      " [0 0 1]]\n"
     ]
    }
   ],
   "source": [
    "# Creating a 3x3 identity matrix\n",
    "id_matrix = np.eye(3, dtype = np.uint8)\n",
    "print(id_matrix)"
   ]
  },
  {
   "cell_type": "markdown",
   "metadata": {},
   "source": [
    "The position of the main diagonal can be shifted upwards (downwards) by adding the position of a diagonal parameter `k>=0` (`k<=0`). For the above example:"
   ]
  },
  {
   "cell_type": "code",
   "execution_count": 20,
   "metadata": {},
   "outputs": [
    {
     "name": "stdout",
     "output_type": "stream",
     "text": [
      "[[0 1 0]\n",
      " [0 0 1]\n",
      " [0 0 0]]\n"
     ]
    }
   ],
   "source": [
    "# Shifting the position of the main diagonal upwards\n",
    "id_matrix = np.eye(3, dtype = np.uint8, k=1)\n",
    "print(id_matrix)"
   ]
  },
  {
   "cell_type": "markdown",
   "metadata": {},
   "source": [
    "Another way of creating an identity matrix is to use the command `np.identity`, which is already built in the NumPy library."
   ]
  },
  {
   "cell_type": "code",
   "execution_count": 21,
   "metadata": {},
   "outputs": [
    {
     "name": "stdout",
     "output_type": "stream",
     "text": [
      "[[1 0 0 0 0]\n",
      " [0 1 0 0 0]\n",
      " [0 0 1 0 0]\n",
      " [0 0 0 1 0]\n",
      " [0 0 0 0 1]]\n"
     ]
    }
   ],
   "source": [
    "id_matrix = np.identity(5, dtype = np.uint8)\n",
    "print(id_matrix)"
   ]
  },
  {
   "cell_type": "markdown",
   "metadata": {},
   "source": [
    "Furthermore, we can also create a matrix of ones or zeroes, or even other values."
   ]
  },
  {
   "cell_type": "code",
   "execution_count": 22,
   "metadata": {},
   "outputs": [
    {
     "name": "stdout",
     "output_type": "stream",
     "text": [
      "[[[1 1 1]\n",
      "  [1 1 1]\n",
      "  [1 1 1]]\n",
      "\n",
      " [[1 1 1]\n",
      "  [1 1 1]\n",
      "  [1 1 1]]]\n"
     ]
    }
   ],
   "source": [
    "ones = np.ones((2, 3, 3), dtype = np.int16)\n",
    "print(ones)"
   ]
  },
  {
   "cell_type": "code",
   "execution_count": 23,
   "metadata": {},
   "outputs": [
    {
     "name": "stdout",
     "output_type": "stream",
     "text": [
      "[[[0 0 0]\n",
      "  [0 0 0]\n",
      "  [0 0 0]]\n",
      "\n",
      " [[0 0 0]\n",
      "  [0 0 0]\n",
      "  [0 0 0]]]\n"
     ]
    }
   ],
   "source": [
    "zeros = np.zeros((2, 3, 3), dtype = np.int16)\n",
    "print(zeros)"
   ]
  },
  {
   "cell_type": "code",
   "execution_count": 24,
   "metadata": {},
   "outputs": [
    {
     "name": "stdout",
     "output_type": "stream",
     "text": [
      "[[[3 3 3]\n",
      "  [3 3 3]\n",
      "  [3 3 3]]\n",
      "\n",
      " [[3 3 3]\n",
      "  [3 3 3]\n",
      "  [3 3 3]]\n",
      "\n",
      " [[3 3 3]\n",
      "  [3 3 3]\n",
      "  [3 3 3]]]\n"
     ]
    }
   ],
   "source": [
    "fill_matrix = np.full((3, 3, 3),  dtype = np.int16, fill_value = 3)\n",
    "print(fill_matrix)"
   ]
  },
  {
   "cell_type": "markdown",
   "metadata": {},
   "source": [
    "Suppose we want to create upper or lower triangular matrices. We can do this by:"
   ]
  },
  {
   "cell_type": "code",
   "execution_count": 19,
   "metadata": {},
   "outputs": [
    {
     "name": "stdout",
     "output_type": "stream",
     "text": [
      "[[1 1 1 1 1 1]\n",
      " [0 1 1 1 1 1]\n",
      " [0 0 1 1 1 1]\n",
      " [0 0 0 1 1 1]\n",
      " [0 0 0 0 1 1]\n",
      " [0 0 0 0 0 1]]\n",
      "[[1 0 0 0 0 0]\n",
      " [1 1 0 0 0 0]\n",
      " [1 1 1 0 0 0]\n",
      " [1 1 1 1 0 0]\n",
      " [1 1 1 1 1 0]\n",
      " [1 1 1 1 1 1]]\n"
     ]
    }
   ],
   "source": [
    "ones = np.ones((6,6), dtype = np.uint8)\n",
    "upper = np.triu(ones, k = 0) #k denotes the location of the diagonal\n",
    "lower = np.tril(ones, k=0)\n",
    "print(upper)\n",
    "print(lower)"
   ]
  },
  {
   "cell_type": "markdown",
   "metadata": {},
   "source": [
    "Just as in the Pandas library, we can perform random sampling in NumPy as follows:"
   ]
  },
  {
   "cell_type": "code",
   "execution_count": 20,
   "metadata": {},
   "outputs": [
    {
     "name": "stdout",
     "output_type": "stream",
     "text": [
      "[0 9 0 6 9 0 2 4 3 0]\n",
      "[[0.18302332 0.70037983 0.60880259]\n",
      " [0.99738317 0.6655288  0.07639514]\n",
      " [0.30654183 0.76082136 0.291935  ]]\n"
     ]
    }
   ],
   "source": [
    "random_returns = np.random.randint(low = 0, high =10, size = 10)\n",
    "print(random_returns)\n",
    "\n",
    "# Creating a 2-dimensional random array\n",
    "random_returns_2d = np.random.rand(3,3)\n",
    "print(random_returns_2d)"
   ]
  },
  {
   "cell_type": "markdown",
   "metadata": {},
   "source": [
    "The output differs every time we run the code."
   ]
  },
  {
   "cell_type": "markdown",
   "metadata": {},
   "source": [
    "## 5. Statistical Functions <a name=\"stats\"></a> "
   ]
  },
  {
   "cell_type": "markdown",
   "metadata": {},
   "source": [
    "In this section, we will briefly introduce some of Numpy's useful statistical functions. Take the following return series as a starting point:"
   ]
  },
  {
   "cell_type": "code",
   "execution_count": 25,
   "metadata": {},
   "outputs": [],
   "source": [
    "r1 = np.array([0.05, 0.01, 0.1, 0.12, 0.06, 0.04, 0.05])"
   ]
  },
  {
   "cell_type": "markdown",
   "metadata": {},
   "source": [
    "We can apply the following statistical functions (note that this list is not extensive):\n",
    "- calculate the median `np.median()`\n",
    "- calculate the average `np.average()`\n",
    "- calculate the mean `np.mean()`\n",
    "- calculate the standard deviation `np.std()`\n",
    "- calculate the variance `np.var()`"
   ]
  },
  {
   "cell_type": "markdown",
   "metadata": {},
   "source": [
    "Applying the above functions to our return series yields:"
   ]
  },
  {
   "cell_type": "code",
   "execution_count": 26,
   "metadata": {},
   "outputs": [
    {
     "name": "stdout",
     "output_type": "stream",
     "text": [
      "0.05\n",
      "0.06142857142857143\n",
      "0.06142857142857143\n",
      "0.03440455593940656\n",
      "0.0011836734693877553\n"
     ]
    }
   ],
   "source": [
    "print(np.median(r1))\n",
    "print(np.average(r1))\n",
    "print(np.mean(r1))\n",
    "print(np.std(r1))\n",
    "print(np.var(r1))"
   ]
  },
  {
   "cell_type": "markdown",
   "metadata": {},
   "source": [
    "In statistics and econometrics, it is often necessary to draw a histogram of the underlying distribution. We do this by:"
   ]
  },
  {
   "cell_type": "code",
   "execution_count": 27,
   "metadata": {},
   "outputs": [
    {
     "name": "stdout",
     "output_type": "stream",
     "text": [
      "(array([1, 0, 1, 2, 1, 0, 0, 0, 1, 1]), array([0.01 , 0.021, 0.032, 0.043, 0.054, 0.065, 0.076, 0.087, 0.098,\n",
      "       0.109, 0.12 ]))\n"
     ]
    }
   ],
   "source": [
    "print(np.histogram(r1))"
   ]
  },
  {
   "cell_type": "markdown",
   "metadata": {},
   "source": [
    "The first array of the output shows the frequency values, and the second array shows the frequency ranges (or bins - the ranges of all the data). In the next session, we will look at how to use this information to create plots. "
   ]
  },
  {
   "cell_type": "markdown",
   "metadata": {},
   "source": [
    "To practice the basics of Python, please take the datacamp course \"Introduction to Python\".\n",
    "For a quick overview of the NumPy package, ckeck: https://datacamp-community-prod.s3.amazonaws.com/e9f83f72-a81b-42c7-af44-4e35b48b20b7"
   ]
  },
  {
   "cell_type": "code",
   "execution_count": null,
   "metadata": {},
   "outputs": [],
   "source": []
  }
 ],
 "metadata": {
  "kernelspec": {
   "display_name": "Python 3 (ipykernel)",
   "language": "python",
   "name": "python3"
  },
  "language_info": {
   "codemirror_mode": {
    "name": "ipython",
    "version": 3
   },
   "file_extension": ".py",
   "mimetype": "text/x-python",
   "name": "python",
   "nbconvert_exporter": "python",
   "pygments_lexer": "ipython3",
   "version": "3.9.13"
  }
 },
 "nbformat": 4,
 "nbformat_minor": 2
}
