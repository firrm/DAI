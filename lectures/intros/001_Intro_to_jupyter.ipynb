{
 "cells": [
  {
   "cell_type": "markdown",
   "metadata": {},
   "source": [
    "<img style=\"float: right; width: 150px;\" src=\"https://raw.githubusercontent.com/firrm/DAI/main/assets/firrm.jpg\">\n",
    "\n",
    "## <span style=\"color:#4375c7\">DAI</span>\n",
    "***\n",
    "*Course materials are for educational purposes only. Nothing contained herein should be considered investment advice or an opinion regarding the suitability of any security. For more information about this course, please contact us.*\n",
    "***\n",
    "\n",
    "## Introduction to Jupyter"
   ]
  },
  {
   "cell_type": "markdown",
   "metadata": {},
   "source": [
    "Jupyter is an interactive development environment (IDE) in our browser for Python and other programming languages. All of Jupyter's functionality comes from another IDE called IPython, which we will not discuss further at this point. As you may have noticed, Jupyter is an abbreviation of **Ju**lia, **Py**thon, and **R**, as it provides support for a wide range of programming languages (over 40). Jupyter features big data integration (such as Apache Spark), interactive output (HTML, images, videos, and LaTeX), the ability to share notebooks with others (via email, Dropbox, GitHub, or the Jupyter Notebook Viewer), and the ability to choose your preferred programming language. More information can be found on the [jupyter homepage](https://jupyter.org).\n",
    "\n",
    "In our course, we teach theory and scientific computing using Python. The format of jupyter notebooks allows us to consolidate lecture notes, examples, and interactive tutorials into single documents that you can refer to while studying. The flexibility and richness of Jupyter is an important aspect of why we use it in our course. In the end, you have a one-stop shop for your learning."
   ]
  },
  {
   "cell_type": "markdown",
   "metadata": {},
   "source": [
    "### Session contents:\n",
    "1. **[Working within the Jupyter Notebook](#notebook)**\n",
    "2. **[Useful Shortcuts](#shortcuts)**\n",
    "3. **[Session Takeaways](#takeaways)**\n",
    "***"
   ]
  },
  {
   "cell_type": "markdown",
   "metadata": {},
   "source": [
    "## 1. Working within the Jupyter Notebook <a name=\"notebook\"></a> "
   ]
  },
  {
   "cell_type": "markdown",
   "metadata": {},
   "source": [
    "Since we already know how to open the Jupyter notebook, let us quickly examine how to work within it. Note: The version of Python you are currently using is displayed in the top right corner below the Logout button. We are using Python 3 in this course.\n",
    "\n",
    "Once you have created a new notebook, click on the `+` sign on the left of the shortcuts of the menu bar to generate a new building block. The newly created unit is ready to type Python code. If you want to write text instead of code in your building block, simply go to the shortcuts and select `Markdown` from the drop down menu. Markdown is a language that allows us to define html-like (Hypertext Markup Language) pages with minimal syntax, which makes it very convenient. To compile the written text (or code) just click `Run` and the notebook will execute the code and move on to the next building block. If you want to modify your block, double click on it, adjust it and recompile it."
   ]
  },
  {
   "cell_type": "markdown",
   "metadata": {},
   "source": [
    "For example, let us create and compile a new block of code that prints out a sequence of characters called a `string`. "
   ]
  },
  {
   "cell_type": "code",
   "execution_count": 1,
   "metadata": {},
   "outputs": [
    {
     "name": "stdout",
     "output_type": "stream",
     "text": [
      "This is course material for Quantitative Finance.\n"
     ]
    }
   ],
   "source": [
    "print('This is course material for Quantitative Finance.')"
   ]
  },
  {
   "cell_type": "markdown",
   "metadata": {},
   "source": [
    "The output of the code is displayed directly below the code. Remember to save the notebook if you make changes that you want to keep. To do this, click on the disk icon in the top left of the menu bar. You can also save the notebook as a new file by clicking `File` > `Save as...` > `Path`."
   ]
  },
  {
   "cell_type": "markdown",
   "metadata": {},
   "source": [
    "## 2. Useful Shortcuts <a name=\"shortcuts\"></a> "
   ]
  },
  {
   "cell_type": "markdown",
   "metadata": {},
   "source": [
    "To code more efficiently in Jupyter notebooks, it is convenient to use shortcuts, e.g. for compiling or creating new code blocks. An extensive list of shortcuts can be found in the menu bar under `Help` > `Keyboard Shortcuts`. Since the next sessions will include coding exercises, you should familiarize yourself with the commands you need to improve your efficiency. In addition to keyboard shortcuts, the `Help` menu contains references to all the scientific Python code libraries, such as Pandas, Numpy, Scipy, and Matplotlib, which we will introduce and use in the next sessions."
   ]
  },
  {
   "cell_type": "markdown",
   "metadata": {},
   "source": [
    "## 3. Session Takeaways <a name=\"takeaways\"></a> "
   ]
  },
  {
   "cell_type": "markdown",
   "metadata": {},
   "source": [
    "*What have we learned in this session?*\n",
    "\n",
    "- Introduction to the Jupyter notebook environment\n",
    "- How to create, navigate, edit, and save notebooks\n",
    "- How to switch between coding and writing Markdown text\n",
    "- How to write and run code\n",
    "- Browse and search for links and references to important scientific Python libraries\n",
    "\n",
    "*What's next?*\n",
    "\n",
    "Now that we are familiar with the IDE we are working in, the next session introduces the main concepts of the Python 3 programming language as a building block for implementing scientific computing libraries.\n",
    "\n",
    "***"
   ]
  },
  {
   "cell_type": "markdown",
   "metadata": {},
   "source": [
    "For quick overview over the Jupyter GUI: https://datacamp-community-prod.s3.amazonaws.com/48093c40-5303-45f4-bbf9-0c96c0133c40"
   ]
  }
 ],
 "metadata": {
  "kernelspec": {
   "display_name": "Python 3 (ipykernel)",
   "language": "python",
   "name": "python3"
  },
  "language_info": {
   "codemirror_mode": {
    "name": "ipython",
    "version": 3
   },
   "file_extension": ".py",
   "mimetype": "text/x-python",
   "name": "python",
   "nbconvert_exporter": "python",
   "pygments_lexer": "ipython3",
   "version": "3.9.13"
  }
 },
 "nbformat": 4,
 "nbformat_minor": 2
}
