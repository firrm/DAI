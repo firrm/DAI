{
 "cells": [
  {
   "cell_type": "markdown",
   "metadata": {},
   "source": [
    "<img style=\"float: right; width: 150px;\" src=\"https://raw.githubusercontent.com/firrm/DAI/main/assets/firrm.jpg\">\n",
    "\n",
    "## <span style=\"color:#4375c7\">DAI</span>\n",
    "***\n",
    "*Course materials are for educational purposes only. Nothing contained herein should be considered investment advice or an opinion regarding the suitability of any security. For more information about this course, please contact us.*\n",
    "***\n",
    "\n",
    "## Introduction to Python 3"
   ]
  },
  {
   "cell_type": "markdown",
   "metadata": {},
   "source": [
    "This lecture introduces the basics of the Python 3 programming language, such as assigning variables, data types, numeric operators, working with lists, and defining your own problem specific functions. Due to its modularity (e.g. \"tool packages\"), Python 3 is gaining more and more attention from scientists and practitioners, making it the most widely used programming language worldwide."
   ]
  },
  {
   "cell_type": "markdown",
   "metadata": {},
   "source": [
    "### Session contents:\n",
    "1. **[Variables](#variables)**\n",
    "2. **[Data Types](#data-types)**\n",
    "3. **[Numbers and Operators](#operators)**\n",
    "4. **[Lists and Slicing](#lists)**\n",
    "5. **[Functions](#functions)**\n",
    "6. **[Session Takeaways](#takeaways)**\n",
    "***"
   ]
  },
  {
   "cell_type": "markdown",
   "metadata": {},
   "source": [
    "## 1. Variables  <a name=\"variables\"></a> "
   ]
  },
  {
   "cell_type": "markdown",
   "metadata": {},
   "source": [
    "What is a variable, how do we create them, and how do we use them in Python? Defining variables is one of the basic concepts of any programming language. Variables are used to store any kind of value. Variables are how the program remembers values. We assign values to a variable by using the equals sign (`=`). Note that this operation does not actually test for equality!"
   ]
  },
  {
   "cell_type": "code",
   "execution_count": 1,
   "metadata": {},
   "outputs": [
    {
     "name": "stdout",
     "output_type": "stream",
     "text": [
      "0.05\n",
      "0.4 0.1 0.3\n",
      "<class 'float'>\n",
      "<class 'float'>\n"
     ]
    }
   ],
   "source": [
    "# Create a variable containing an interest rate\n",
    "ir = 0.05\n",
    "\n",
    "# Create multiple variables containing swap rates (in one command line)\n",
    "s1, s2, s3 = 0.4, 0.1, 0.3\n",
    "\n",
    "# Print out the interest and swap rates\n",
    "print(ir)\n",
    "print(s1,s2,s3)\n",
    "\n",
    "# Check the type of the values in the variables\n",
    "print(type(ir))\n",
    "print(type(s1))"
   ]
  },
  {
   "cell_type": "markdown",
   "metadata": {},
   "source": [
    "By assigning a new value to the variable defined above for the interest rate `ir`, we overwrite the value previously stored in this variable."
   ]
  },
  {
   "cell_type": "code",
   "execution_count": 2,
   "metadata": {},
   "outputs": [
    {
     "name": "stdout",
     "output_type": "stream",
     "text": [
      "2\n"
     ]
    }
   ],
   "source": [
    "# Assign new value to the variable 'ir'\n",
    "ir = 2\n",
    "\n",
    "print(ir)"
   ]
  },
  {
   "cell_type": "markdown",
   "metadata": {},
   "source": [
    "We have successfully assigned an integer value to the variable `ir`. Now we want to assign a string (an ordered sequence of characters) to a new variable called `ticker`."
   ]
  },
  {
   "cell_type": "code",
   "execution_count": 3,
   "metadata": {
    "scrolled": true
   },
   "outputs": [
    {
     "name": "stdout",
     "output_type": "stream",
     "text": [
      "BMW\n"
     ]
    }
   ],
   "source": [
    "# Assign a string value to the variable ticker\n",
    "ticker = 'BMW'\n",
    "\n",
    "print(ticker)"
   ]
  },
  {
   "cell_type": "markdown",
   "metadata": {},
   "source": [
    "There are several conventions for naming variables in Python:\n",
    " - letters (`a-z`, `A-Z`), digits (`0-9`) and the underscore character (`_`) are allowed\n",
    " - the variable name can only start with letters or an underscore character\n",
    " - special characters are not allowed\n",
    " - Python reserves several words, e.g., the following cannot be used: `True`,`False`,`None`,`class`,`else`,`if`, `while` etc.\n",
    " - Python differentiates between lower and upper-case letters\n",
    " - use snake-case instead of camel-case style when naming variables, e.g., `max_interest` instead of `maxInterest` and be consistent throughout your code\n",
    " \n",
    "Constants, such as Pi, must be declared like any other variable, since Python does not have constants. By convention, we write the variable name of constants in uppercase letters:\n",
    " - `PI = 3.142`\n",
    " - `HOURS_PER_DAY = 24`"
   ]
  },
  {
   "cell_type": "markdown",
   "metadata": {},
   "source": [
    "Remark: As you have already seen in the examples above, it is highly recommended to use comments within your code so that others can understand what you have done. To comment, type `#` at the beginning of the line of code and type your comment."
   ]
  },
  {
   "cell_type": "markdown",
   "metadata": {},
   "source": [
    "## 2. Data Types <a name=\"data-types\"></a> "
   ]
  },
  {
   "cell_type": "markdown",
   "metadata": {},
   "source": [
    "We can assign different types of data to variables. We are mainly interested in the following data types:\n",
    " - Numbers: `Integers`, `Floating` point and `Complex` numbers\n",
    " - Booleans: Logical values indicating `False`,`True` and `None`\n",
    " - Strings: Ordered sequence of characters\n",
    " - Lists: Ordered mutable sequence of objects\n",
    " - Tuples: Ordered immutable sequence of objects\n",
    " - Sets: Mutable collections of unordered unique objects\n",
    " - Dictionaries: Collections of unordered key:value pairs"
   ]
  },
  {
   "cell_type": "code",
   "execution_count": 4,
   "metadata": {},
   "outputs": [
    {
     "name": "stdout",
     "output_type": "stream",
     "text": [
      "<class 'int'>\n",
      "<class 'float'>\n",
      "<class 'bool'>\n",
      "<class 'str'>\n",
      "<class 'list'>\n",
      "<class 'tuple'>\n",
      "<class 'set'>\n",
      "<class 'dict'>\n"
     ]
    }
   ],
   "source": [
    "# Example for integer\n",
    "revenue = 3000\n",
    "print(type(revenue))\n",
    "\n",
    "# Example for floating\n",
    "swap_rate = 0.75\n",
    "print(type(swap_rate))\n",
    "\n",
    "# Example for boolean\n",
    "pos_return = True\n",
    "print(type(pos_return))\n",
    "\n",
    "# Example for string\n",
    "bank_name = 'Deutsche Bank AG'\n",
    "print(type(bank_name))\n",
    "\n",
    "# Example for list\n",
    "revenues = [1500, 2500, 4500]\n",
    "print(type(revenues))\n",
    "\n",
    "# Example for tuple\n",
    "bank_account = ('Deutsche Bank', 'Max Mustermann', 5000)\n",
    "print(type(bank_account))\n",
    "\n",
    "# Example for set\n",
    "vowel = {'a', 'e', 'i', 'o', 'u'}\n",
    "print(type(vowel))\n",
    "\n",
    "# Example for dictionary\n",
    "bank_account = {'bank_name':'Deutsche Bank', 'owner':'Max Mustermann', 'balance':'50000'}\n",
    "print(type(bank_account))"
   ]
  },
  {
   "cell_type": "markdown",
   "metadata": {},
   "source": [
    "## 3. Numbers and Operators <a name=\"operators\"></a> "
   ]
  },
  {
   "cell_type": "markdown",
   "metadata": {},
   "source": [
    "We already know that Python can work with `Integers`, `Floats` and `Complex` numbers as data types. In this section, we will give a quick overview of how we can operate with these numbers. The standard calculations using arithmetic operators are performed as follows:\n",
    " - `+` addition\n",
    " - `-` substraction\n",
    " - `/` division\n",
    " - `//` floor or integer division\n",
    " - `*` multiplication\n",
    " - `**` exponentiation\n",
    " - `%` modulus (mod)"
   ]
  },
  {
   "cell_type": "code",
   "execution_count": 5,
   "metadata": {},
   "outputs": [
    {
     "name": "stdout",
     "output_type": "stream",
     "text": [
      "3\n"
     ]
    }
   ],
   "source": [
    "# Calculate the sum of the integer values\n",
    "\n",
    "value1 = 1\n",
    "value2 = 2\n",
    "\n",
    "print(value1 + value2)"
   ]
  },
  {
   "cell_type": "markdown",
   "metadata": {},
   "source": [
    "## 4. Lists and Slicing <a name=\"lists\"></a> "
   ]
  },
  {
   "cell_type": "markdown",
   "metadata": {},
   "source": [
    "Lists are a built-in container data type that holds other data. A list is a collection of other objects - floats, integers, complex numbers, strings, or even other lists. Lists are essential to Python programming and are used to store collections of other values.\n",
    "\n",
    "Lists also support slicing to retrieve one or more elements from the lists. Lists are constructed using square brackets, [], and values are separated by commas."
   ]
  },
  {
   "cell_type": "code",
   "execution_count": 6,
   "metadata": {},
   "outputs": [
    {
     "name": "stdout",
     "output_type": "stream",
     "text": [
      "<class 'list'>\n",
      "[0.05, -0.01, 0.08]\n"
     ]
    }
   ],
   "source": [
    "# Example for a list\n",
    "returns = [0.05, -0.01, 0.08]\n",
    "print(type(returns))\n",
    "print(returns)"
   ]
  },
  {
   "cell_type": "code",
   "execution_count": 7,
   "metadata": {},
   "outputs": [
    {
     "name": "stdout",
     "output_type": "stream",
     "text": [
      "<class 'list'>\n",
      "[['Deutsche Bank', True], [0.05, -0.01, 0.08]]\n"
     ]
    }
   ],
   "source": [
    "# Example for a 2-dimensional list (also for mixed data types) - or in other words, a list of lists\n",
    "returns_2d = [['Deutsche Bank', True],[0.05, -0.01, 0.08]]\n",
    "print(type(returns_2d))\n",
    "print(returns_2d)"
   ]
  },
  {
   "cell_type": "markdown",
   "metadata": {},
   "source": [
    "Lists, like strings, can be sliced. Slicing is similar, although lists can be sliced in more ways than strings. The difference is that lists can be multidimensional, while strings are always `1n`. Basic list slicing is identical to string slicing, and operations such as `x[:]`, `x[1:]`, `x[:1]`, and `x[3:]` can all be used. To understand slicing, assume that `x` is a 1-dimensional list with `n` elements and `i>=0`, `j>0`, `i<j`, and `m>=1`.\n",
    "\n",
    "\n"
   ]
  },
  {
   "cell_type": "code",
   "execution_count": 8,
   "metadata": {},
   "outputs": [
    {
     "name": "stdout",
     "output_type": "stream",
     "text": [
      "0.05\n",
      "[-0.01, 0.08]\n",
      "[-0.01]\n"
     ]
    }
   ],
   "source": [
    "# Example for retrieving elements from 1-dimensional lists\n",
    "print(returns[0])\n",
    "print(returns[1:])\n",
    "print(returns[-2:-1])"
   ]
  },
  {
   "cell_type": "markdown",
   "metadata": {},
   "source": [
    "Lists can be multidimensional and slicing can be done directly in higher dimensions. For simplicity, consider slicing a 2-dimensional list. Single indexing will return the first (inner) or the second (inner) list. It is also possible to directly slice the returned list, as we will see below."
   ]
  },
  {
   "cell_type": "code",
   "execution_count": 9,
   "metadata": {},
   "outputs": [
    {
     "name": "stdout",
     "output_type": "stream",
     "text": [
      "['Deutsche Bank', True]\n",
      "0.08\n"
     ]
    }
   ],
   "source": [
    "# Slicing the first (inner) list of the 2-dimensional list\n",
    "print(returns_2d[0])\n",
    "\n",
    "# Slicing the second (inner) list and slicing the last element of that list\n",
    "print(returns_2d[1][2])\n"
   ]
  },
  {
   "cell_type": "markdown",
   "metadata": {},
   "source": [
    "The following **list functions** are useful for cleaning up data.\n",
    "- `list.append(x,value)` or `x.append(value)`: appends value to the end of the list\n",
    "- `len(x)`: returns the number of elements in the list\n",
    "- `list.extend(x,list)` or `x.extend(list)`: appends the values in a certain list to the existing list\n",
    "- `list.pop(x,index)` or `x.pop(index)`: removes the value depending on its position index and returns the value\n",
    "- `list.remove(x,value)` or `x.remove(value)`: removes the first occurrence of the value from the list\n",
    "- `list.count(x,value)` or `x.count(value)`: counts the number of occurrences of the value in the list\n",
    "- `del x[slice]`: deletes the elements in slice"
   ]
  },
  {
   "cell_type": "code",
   "execution_count": 10,
   "metadata": {},
   "outputs": [
    {
     "name": "stdout",
     "output_type": "stream",
     "text": [
      "[0.05, -0.01, 0.08]\n",
      "None\n"
     ]
    }
   ],
   "source": [
    "# Examples for the list functions\n",
    "print(returns)\n",
    "\n",
    "print(returns.append(0.075))\n",
    "\n",
    "len(returns)\n",
    "\n",
    "returns.extend([0.05,0.01,0.02])\n",
    "\n",
    "returns.pop(1)\n",
    "\n",
    "returns.remove(0.075)\n",
    "\n",
    "del returns[1:3]"
   ]
  },
  {
   "cell_type": "markdown",
   "metadata": {},
   "source": [
    "## 5. Functions <a name=\"functions\"></a> "
   ]
  },
  {
   "cell_type": "markdown",
   "metadata": {},
   "source": [
    "In this section we will learn how to write our own functions. Functions are basically everywhere in programming. Functions organize our code into blocks to make it easier to reuse. This makes our code more readable, improves modularity, and saves time when designing and executing code. Let's define our own function for discounting cash flows as\n",
    "\n",
    "\\begin{align} \n",
    "PV_n=\\frac{FCF}{(1+r)^n} \n",
    "\\end{align}\n",
    "\n",
    "where `PV` denotes the present value, `FCF` is the future cash flows, `r` is the risk free interest rate and `n` describes the respective period. "
   ]
  },
  {
   "cell_type": "code",
   "execution_count": 11,
   "metadata": {},
   "outputs": [
    {
     "name": "stdout",
     "output_type": "stream",
     "text": [
      "[300.0, 142.85714285714286, 113.37868480725623, 233.2361516034985, 246.81074243756456, 274.2341582639606, 242.52000390690392, 241.63165224424125, 243.6621703303273, 225.613120676229, 217.9392050069695]\n",
      "Help on function disc_function in module __main__:\n",
      "\n",
      "disc_function(c, r)\n",
      "    This is my first function. It discounts cash flows using a risk free interest rate.\n",
      "\n",
      "\n",
      "    This is my first function. It discounts cash flows using a risk free interest rate.\n",
      "    \n"
     ]
    }
   ],
   "source": [
    "# Fictive cash flow of BMW\n",
    "BMW = [300, 150, 125, 270, 300, 350, 325, 340, 360, 350, 355]\n",
    "\n",
    "# Risk free interest rate\n",
    "r = 0.05\n",
    "\n",
    "# Defining a new function\n",
    "def disc_function(c,r):\n",
    "    \"\"\"\n",
    "    This is my first function. It discounts cash flows using a risk free interest rate.\n",
    "    \"\"\"\n",
    "    d = []\n",
    "    for i in range(0,len(c)):\n",
    "       d.append(c[i]/((1+r)**i))\n",
    "    print(d)\n",
    "       \n",
    "# Applying our new function for the above cash flow of BMW        \n",
    "disc_function(BMW,r)\n",
    "    \n",
    "# Show the function help information (doc string)\n",
    "help(disc_function)\n",
    "# or\n",
    "print(disc_function.__doc__)\n"
   ]
  },
  {
   "cell_type": "markdown",
   "metadata": {},
   "source": [
    "This function helps us to create a new list of discounted cash flows. \n",
    "\n",
    "As you can see, we have implemented a for loop in the core of our function. For loops are basically the heart of functions that rely on repeating a particular operation. The basic setup for using for loops is:\n",
    "`for i in range():`, where `i` is the index.\n",
    "\n",
    "Note that functions can contain function parameters, which are variables \"local\" to the function. When calling the function, the respective parameters are called a function's arguments. They are written inside the parenthesis of the defined function. We separate more than one parameter by using a comma!\n",
    "\n",
    "Also note that we have also assigned a so-called `doc string` to define what the function does by adding `.__doc__` to the end of the function name. \n",
    "\n"
   ]
  },
  {
   "cell_type": "markdown",
   "metadata": {},
   "source": [
    "## 6. Session Takeaways <a name=\"takeaways\"></a> "
   ]
  },
  {
   "cell_type": "markdown",
   "metadata": {},
   "source": [
    "\n",
    "*What have we learned in this session?*\n",
    "\n",
    "- Introduction to Python 3 syntax\n",
    "- How to assign any type of value to a variable\n",
    "- How to distinguish different data types\n",
    "- How to conduct desired calculus using different operators\n",
    "- The concept of lists as data storage and how to modify lists\n",
    "- How to write our own functions to facilitate repetitive, large-scale computations\n",
    "- Short introduction to loops\n",
    "\n",
    "*What's next?*\n",
    "\n",
    "We now know the **basics** of the Python 3 programming language. To fully conduct scientific analyses using Python, we will look at the libraries Pandas, Numpy, Matplotlib and Scipy with hands-on exercises for you to work on.\n",
    "\n",
    "***"
   ]
  }
 ],
 "metadata": {
  "kernelspec": {
   "display_name": "Python 3 (ipykernel)",
   "language": "python",
   "name": "python3"
  },
  "language_info": {
   "codemirror_mode": {
    "name": "ipython",
    "version": 3
   },
   "file_extension": ".py",
   "mimetype": "text/x-python",
   "name": "python",
   "nbconvert_exporter": "python",
   "pygments_lexer": "ipython3",
   "version": "3.9.13"
  }
 },
 "nbformat": 4,
 "nbformat_minor": 2
}
